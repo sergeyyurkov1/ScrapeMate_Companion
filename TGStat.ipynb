{
  "nbformat": 4,
  "nbformat_minor": 0,
  "metadata": {
    "colab": {
      "provenance": []
    },
    "kernelspec": {
      "name": "python3",
      "display_name": "Python 3"
    },
    "language_info": {
      "name": "python"
    }
  },
  "cells": [
    {
      "cell_type": "markdown",
      "source": [
        "Attempting to format a notebook with `black`. Does NOT work - corrupts the notebook\n",
        "\n",
        "# TODO"
      ],
      "metadata": {
        "id": "TU_9lVfybzI2"
      }
    },
    {
      "cell_type": "code",
      "execution_count": 12,
      "metadata": {
        "id": "sauMVDRAWEX3"
      },
      "outputs": [],
      "source": [
        "# !pip install black[jupyter] --quiet\n",
        "\n",
        "# from google.colab import drive\n",
        "# drive.mount(\"/content/drive\")\n",
        "\n",
        "# # %cd /content/drive/MyDrive/'Colab Notebooks'\n",
        "# !black /content/drive/MyDrive/'Colab Notebooks'/TGStat.ipynb\n"
      ]
    },
    {
      "cell_type": "markdown",
      "source": [
        "### 1. Install `pyppeteer`"
      ],
      "metadata": {
        "id": "H1cfwH4XcM8r"
      }
    },
    {
      "cell_type": "code",
      "source": [
        "%%capture\n",
        "!pip install pyppeteer"
      ],
      "metadata": {
        "id": "Su_WG9N-WfFd"
      },
      "execution_count": 13,
      "outputs": []
    },
    {
      "cell_type": "markdown",
      "source": [
        "### 2. Install the missing library to make Pyppeteer's local version of Chromium run under Linux/Colab environment, otherwise it crashes on startup"
      ],
      "metadata": {
        "id": "csdc9jcecVhf"
      }
    },
    {
      "cell_type": "code",
      "source": [
        "!apt install libxtst6"
      ],
      "metadata": {
        "colab": {
          "base_uri": "https://localhost:8080/"
        },
        "id": "IzvL4dC0YTju",
        "outputId": "216ec29a-cbeb-4192-8911-422073ffd31b"
      },
      "execution_count": 14,
      "outputs": [
        {
          "output_type": "stream",
          "name": "stdout",
          "text": [
            "Reading package lists... Done\n",
            "Building dependency tree       \n",
            "Reading state information... Done\n",
            "libxtst6 is already the newest version (2:1.2.3-1).\n",
            "0 upgraded, 0 newly installed, 0 to remove and 13 not upgraded.\n"
          ]
        }
      ]
    },
    {
      "cell_type": "markdown",
      "source": [
        "### 3. Fix `asyncio` in the notebook environment"
      ],
      "metadata": {
        "id": "6LeMqx_ecpyB"
      }
    },
    {
      "cell_type": "code",
      "source": [
        "import nest_asyncio\n",
        "\n",
        "nest_asyncio.apply()"
      ],
      "metadata": {
        "id": "BN80RnYpWr5M"
      },
      "execution_count": 15,
      "outputs": []
    },
    {
      "cell_type": "markdown",
      "source": [
        "### 4. The program"
      ],
      "metadata": {
        "id": "2GgTI1mdc2yE"
      }
    },
    {
      "cell_type": "code",
      "source": [
        "import os\n",
        "import asyncio\n",
        "import json\n",
        "import csv\n",
        "import string\n",
        "\n",
        "from pyppeteer import launch\n",
        "from pyppeteer.page import Page\n",
        "\n",
        "\n",
        "def get_suffix(selector: str) -> str:\n",
        "  \"\"\"\n",
        "  Takes a CSS selector and returns an appropriate DOM element property\n",
        "  to use with Pyppeteer's query method in order to get correct data\n",
        "  \"\"\"\n",
        "  if selector.endswith(\" a\"):\n",
        "    return \"href\"\n",
        "  else:\n",
        "    return \"innerText\"\n",
        "\n",
        "\n",
        "async def get_instructions(directory: str) -> list:\n",
        "  \"\"\"\n",
        "  Parses the ScrapeMate JSON export file in a given directory\n",
        "  and returns a Python list with the selectors and column names\n",
        "\n",
        "  TODO: add the ability to load more than one file; currently, it loads\n",
        "    the first file it finds\n",
        "  \"\"\"\n",
        "  dir_list = os.listdir(directory)\n",
        "  for file in dir_list:\n",
        "    if file.startswith(\"ScrapeMate.\") and file.endswith(\".json\"):\n",
        "      with open(os.path.join(directory, file)) as f:\n",
        "        return json.load(f)\n",
        "\n",
        "\n",
        "def remove_special_chars(text: str, special_chars: str) -> str:\n",
        "  \"\"\"Takes in a string and sanitizes it to be used, for example, as a safe file name on Windows\"\"\"\n",
        "  for char in special_chars:\n",
        "    if char in text:\n",
        "      text = text.replace(char, \"_\")\n",
        "\n",
        "  return text\n",
        "\n",
        "async def scrape(instructions: list, page: Page):\n",
        "  for i in instructions:\n",
        "    urls = instructions[i][\"urls\"]\n",
        "    fields = instructions[i][\"fields\"]\n",
        "\n",
        "  for url in urls:\n",
        "    await page.goto(url, {\"waitUntil\": \"domcontentloaded\"})\n",
        "\n",
        "    data: dict[list] = {}\n",
        "    for field in fields:\n",
        "      name = field[\"name\"]\n",
        "      selector = field[\"selector\"]\n",
        "\n",
        "      data[name] = []\n",
        "      elements = await page.querySelectorAll(selector)\n",
        "      for element in elements:\n",
        "        text: str = await page.evaluate(f'(element) => element.{get_suffix(selector)}', element)\n",
        "        data[name].append(text.strip(\"\\n\").strip(\" \").encode(\"utf-8\", \"strict\").decode())\n",
        "\n",
        "    # import pprint; pprint.pprint(data)\n",
        "\n",
        "    file_name = remove_special_chars(url, string.punctuation + \" \") + \".csv\"\n",
        "    with open(file_name, \"w\", encoding=\"utf-8\") as f:\n",
        "      writer = csv.writer(f)\n",
        "      writer.writerow(data.keys())\n",
        "      writer.writerows(zip(*data.values()))\n",
        "\n",
        "\n",
        "async def main():\n",
        "  browser = await launch(headless=True, args=[\"--no-sandbox\"])\n",
        "\n",
        "  page = await browser.newPage()\n",
        "\n",
        "  instructions = await get_instructions(\"/content\")\n",
        "  await scrape(instructions, page)\n",
        "\n",
        "  await browser.close()\n",
        "\n",
        "asyncio.get_event_loop().run_until_complete(main())\n"
      ],
      "metadata": {
        "id": "plaJFaTFWv8p"
      },
      "execution_count": 16,
      "outputs": []
    },
    {
      "cell_type": "markdown",
      "source": [
        "### If Chromium still crashes on startup, run this command to find any other missing dependencies and install them with `!apt install`"
      ],
      "metadata": {
        "id": "FLqnBiTCc-Wh"
      }
    },
    {
      "cell_type": "code",
      "source": [
        "# !ldd /root/.local/share/pyppeteer/local-chromium/588429/chrome-linux/chrome | grep \"not found\"\n"
      ],
      "metadata": {
        "id": "IU15MganWl1V"
      },
      "execution_count": 17,
      "outputs": []
    },
    {
      "cell_type": "markdown",
      "source": [
        "### 5. Test the output `.csv`"
      ],
      "metadata": {
        "id": "Nkl69xendX1X"
      }
    },
    {
      "cell_type": "code",
      "source": [
        "import pandas as pd\n",
        "\n",
        "df = pd.read_csv(\"/content/https___uz_tgstat_com_en_ratings_channels_public_sort_ci.csv\")\n",
        "\n",
        "df\n"
      ],
      "metadata": {
        "colab": {
          "base_uri": "https://localhost:8080/",
          "height": 424
        },
        "id": "t7SIpIoJXA8G",
        "outputId": "ed2bfa46-5928-4573-e82a-567db45ded0e"
      },
      "execution_count": 18,
      "outputs": [
        {
          "output_type": "execute_result",
          "data": {
            "text/plain": [
              "                                         name  \\\n",
              "0                               Xushnudbek.uz   \n",
              "1            Shavkat Mirziyoyev_press-service   \n",
              "2                       Kun.uz | Расмий канал   \n",
              "3                             Huquqiy axborot   \n",
              "4   Prezident matbuot kotibi | Sherzod Asadov   \n",
              "..                                        ...   \n",
              "95                             TEZKOR RUSTILI   \n",
              "96             Qora Axborotlar | Rasmiy Kanal   \n",
              "97                         Rumiy Aforizmlari📚   \n",
              "98                                TIBBIYOT TV   \n",
              "99             Jahon xabarlari | Rasmiy kanal   \n",
              "\n",
              "                                                  url subscribers post_reach  \\\n",
              "0   https://uz.tgstat.com/en/channel/@xushnudbek/stat     489 194     187.1k   \n",
              "1   https://uz.tgstat.com/en/channel/@shmirziyoyev...     172 569    3 418.8   \n",
              "2   https://uz.tgstat.com/en/channel/@kunuzofficia...   1 310 412      98.6k   \n",
              "3   https://uz.tgstat.com/en/channel/@huquqiyaxbor...     245 005    3 153.8   \n",
              "4   https://uz.tgstat.com/en/channel/@Press_Secret...      75 787     381.7k   \n",
              "..                                                ...         ...        ...   \n",
              "95  https://uz.tgstat.com/en/channel/@RUSTILI_DARS...      30 540    1 230.4   \n",
              "96  https://uz.tgstat.com/en/channel/@Qora_Axborot...      73 078      14.9k   \n",
              "97  https://uz.tgstat.com/en/channel/@Rumiy_Aforiz...      74 081    1 225.5   \n",
              "98  https://uz.tgstat.com/en/channel/@TIBBIYOT_TV/...     598 966      15.4k   \n",
              "99      https://uz.tgstat.com/en/channel/@Jx_uzb/stat   1 171 414    1 224.4   \n",
              "\n",
              "   citation_index  \n",
              "0         3 418.8  \n",
              "1         3 153.8  \n",
              "2         3 134.7  \n",
              "3         2 595.8  \n",
              "4         2 406.6  \n",
              "..            ...  \n",
              "95        1 038.4  \n",
              "96        1 037.4  \n",
              "97        1 031.7  \n",
              "98        1 028.7  \n",
              "99        1 027.6  \n",
              "\n",
              "[100 rows x 5 columns]"
            ],
            "text/html": [
              "\n",
              "  <div id=\"df-72a15df3-5728-4a9d-95ba-27ca2a68ec3e\">\n",
              "    <div class=\"colab-df-container\">\n",
              "      <div>\n",
              "<style scoped>\n",
              "    .dataframe tbody tr th:only-of-type {\n",
              "        vertical-align: middle;\n",
              "    }\n",
              "\n",
              "    .dataframe tbody tr th {\n",
              "        vertical-align: top;\n",
              "    }\n",
              "\n",
              "    .dataframe thead th {\n",
              "        text-align: right;\n",
              "    }\n",
              "</style>\n",
              "<table border=\"1\" class=\"dataframe\">\n",
              "  <thead>\n",
              "    <tr style=\"text-align: right;\">\n",
              "      <th></th>\n",
              "      <th>name</th>\n",
              "      <th>url</th>\n",
              "      <th>subscribers</th>\n",
              "      <th>post_reach</th>\n",
              "      <th>citation_index</th>\n",
              "    </tr>\n",
              "  </thead>\n",
              "  <tbody>\n",
              "    <tr>\n",
              "      <th>0</th>\n",
              "      <td>Xushnudbek.uz</td>\n",
              "      <td>https://uz.tgstat.com/en/channel/@xushnudbek/stat</td>\n",
              "      <td>489 194</td>\n",
              "      <td>187.1k</td>\n",
              "      <td>3 418.8</td>\n",
              "    </tr>\n",
              "    <tr>\n",
              "      <th>1</th>\n",
              "      <td>Shavkat Mirziyoyev_press-service</td>\n",
              "      <td>https://uz.tgstat.com/en/channel/@shmirziyoyev...</td>\n",
              "      <td>172 569</td>\n",
              "      <td>3 418.8</td>\n",
              "      <td>3 153.8</td>\n",
              "    </tr>\n",
              "    <tr>\n",
              "      <th>2</th>\n",
              "      <td>Kun.uz | Расмий канал</td>\n",
              "      <td>https://uz.tgstat.com/en/channel/@kunuzofficia...</td>\n",
              "      <td>1 310 412</td>\n",
              "      <td>98.6k</td>\n",
              "      <td>3 134.7</td>\n",
              "    </tr>\n",
              "    <tr>\n",
              "      <th>3</th>\n",
              "      <td>Huquqiy axborot</td>\n",
              "      <td>https://uz.tgstat.com/en/channel/@huquqiyaxbor...</td>\n",
              "      <td>245 005</td>\n",
              "      <td>3 153.8</td>\n",
              "      <td>2 595.8</td>\n",
              "    </tr>\n",
              "    <tr>\n",
              "      <th>4</th>\n",
              "      <td>Prezident matbuot kotibi | Sherzod Asadov</td>\n",
              "      <td>https://uz.tgstat.com/en/channel/@Press_Secret...</td>\n",
              "      <td>75 787</td>\n",
              "      <td>381.7k</td>\n",
              "      <td>2 406.6</td>\n",
              "    </tr>\n",
              "    <tr>\n",
              "      <th>...</th>\n",
              "      <td>...</td>\n",
              "      <td>...</td>\n",
              "      <td>...</td>\n",
              "      <td>...</td>\n",
              "      <td>...</td>\n",
              "    </tr>\n",
              "    <tr>\n",
              "      <th>95</th>\n",
              "      <td>TEZKOR RUSTILI</td>\n",
              "      <td>https://uz.tgstat.com/en/channel/@RUSTILI_DARS...</td>\n",
              "      <td>30 540</td>\n",
              "      <td>1 230.4</td>\n",
              "      <td>1 038.4</td>\n",
              "    </tr>\n",
              "    <tr>\n",
              "      <th>96</th>\n",
              "      <td>Qora Axborotlar | Rasmiy Kanal</td>\n",
              "      <td>https://uz.tgstat.com/en/channel/@Qora_Axborot...</td>\n",
              "      <td>73 078</td>\n",
              "      <td>14.9k</td>\n",
              "      <td>1 037.4</td>\n",
              "    </tr>\n",
              "    <tr>\n",
              "      <th>97</th>\n",
              "      <td>Rumiy Aforizmlari📚</td>\n",
              "      <td>https://uz.tgstat.com/en/channel/@Rumiy_Aforiz...</td>\n",
              "      <td>74 081</td>\n",
              "      <td>1 225.5</td>\n",
              "      <td>1 031.7</td>\n",
              "    </tr>\n",
              "    <tr>\n",
              "      <th>98</th>\n",
              "      <td>TIBBIYOT TV</td>\n",
              "      <td>https://uz.tgstat.com/en/channel/@TIBBIYOT_TV/...</td>\n",
              "      <td>598 966</td>\n",
              "      <td>15.4k</td>\n",
              "      <td>1 028.7</td>\n",
              "    </tr>\n",
              "    <tr>\n",
              "      <th>99</th>\n",
              "      <td>Jahon xabarlari | Rasmiy kanal</td>\n",
              "      <td>https://uz.tgstat.com/en/channel/@Jx_uzb/stat</td>\n",
              "      <td>1 171 414</td>\n",
              "      <td>1 224.4</td>\n",
              "      <td>1 027.6</td>\n",
              "    </tr>\n",
              "  </tbody>\n",
              "</table>\n",
              "<p>100 rows × 5 columns</p>\n",
              "</div>\n",
              "      <button class=\"colab-df-convert\" onclick=\"convertToInteractive('df-72a15df3-5728-4a9d-95ba-27ca2a68ec3e')\"\n",
              "              title=\"Convert this dataframe to an interactive table.\"\n",
              "              style=\"display:none;\">\n",
              "        \n",
              "  <svg xmlns=\"http://www.w3.org/2000/svg\" height=\"24px\"viewBox=\"0 0 24 24\"\n",
              "       width=\"24px\">\n",
              "    <path d=\"M0 0h24v24H0V0z\" fill=\"none\"/>\n",
              "    <path d=\"M18.56 5.44l.94 2.06.94-2.06 2.06-.94-2.06-.94-.94-2.06-.94 2.06-2.06.94zm-11 1L8.5 8.5l.94-2.06 2.06-.94-2.06-.94L8.5 2.5l-.94 2.06-2.06.94zm10 10l.94 2.06.94-2.06 2.06-.94-2.06-.94-.94-2.06-.94 2.06-2.06.94z\"/><path d=\"M17.41 7.96l-1.37-1.37c-.4-.4-.92-.59-1.43-.59-.52 0-1.04.2-1.43.59L10.3 9.45l-7.72 7.72c-.78.78-.78 2.05 0 2.83L4 21.41c.39.39.9.59 1.41.59.51 0 1.02-.2 1.41-.59l7.78-7.78 2.81-2.81c.8-.78.8-2.07 0-2.86zM5.41 20L4 18.59l7.72-7.72 1.47 1.35L5.41 20z\"/>\n",
              "  </svg>\n",
              "      </button>\n",
              "      \n",
              "  <style>\n",
              "    .colab-df-container {\n",
              "      display:flex;\n",
              "      flex-wrap:wrap;\n",
              "      gap: 12px;\n",
              "    }\n",
              "\n",
              "    .colab-df-convert {\n",
              "      background-color: #E8F0FE;\n",
              "      border: none;\n",
              "      border-radius: 50%;\n",
              "      cursor: pointer;\n",
              "      display: none;\n",
              "      fill: #1967D2;\n",
              "      height: 32px;\n",
              "      padding: 0 0 0 0;\n",
              "      width: 32px;\n",
              "    }\n",
              "\n",
              "    .colab-df-convert:hover {\n",
              "      background-color: #E2EBFA;\n",
              "      box-shadow: 0px 1px 2px rgba(60, 64, 67, 0.3), 0px 1px 3px 1px rgba(60, 64, 67, 0.15);\n",
              "      fill: #174EA6;\n",
              "    }\n",
              "\n",
              "    [theme=dark] .colab-df-convert {\n",
              "      background-color: #3B4455;\n",
              "      fill: #D2E3FC;\n",
              "    }\n",
              "\n",
              "    [theme=dark] .colab-df-convert:hover {\n",
              "      background-color: #434B5C;\n",
              "      box-shadow: 0px 1px 3px 1px rgba(0, 0, 0, 0.15);\n",
              "      filter: drop-shadow(0px 1px 2px rgba(0, 0, 0, 0.3));\n",
              "      fill: #FFFFFF;\n",
              "    }\n",
              "  </style>\n",
              "\n",
              "      <script>\n",
              "        const buttonEl =\n",
              "          document.querySelector('#df-72a15df3-5728-4a9d-95ba-27ca2a68ec3e button.colab-df-convert');\n",
              "        buttonEl.style.display =\n",
              "          google.colab.kernel.accessAllowed ? 'block' : 'none';\n",
              "\n",
              "        async function convertToInteractive(key) {\n",
              "          const element = document.querySelector('#df-72a15df3-5728-4a9d-95ba-27ca2a68ec3e');\n",
              "          const dataTable =\n",
              "            await google.colab.kernel.invokeFunction('convertToInteractive',\n",
              "                                                     [key], {});\n",
              "          if (!dataTable) return;\n",
              "\n",
              "          const docLinkHtml = 'Like what you see? Visit the ' +\n",
              "            '<a target=\"_blank\" href=https://colab.research.google.com/notebooks/data_table.ipynb>data table notebook</a>'\n",
              "            + ' to learn more about interactive tables.';\n",
              "          element.innerHTML = '';\n",
              "          dataTable['output_type'] = 'display_data';\n",
              "          await google.colab.output.renderOutput(dataTable, element);\n",
              "          const docLink = document.createElement('div');\n",
              "          docLink.innerHTML = docLinkHtml;\n",
              "          element.appendChild(docLink);\n",
              "        }\n",
              "      </script>\n",
              "    </div>\n",
              "  </div>\n",
              "  "
            ]
          },
          "metadata": {},
          "execution_count": 18
        }
      ]
    }
  ]
}